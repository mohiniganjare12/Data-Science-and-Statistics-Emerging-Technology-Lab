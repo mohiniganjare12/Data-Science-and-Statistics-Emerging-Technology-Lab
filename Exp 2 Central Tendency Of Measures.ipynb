{
 "cells": [
  {
   "cell_type": "code",
   "execution_count": 2,
   "id": "fcd6948f-178e-4bdb-b286-5c5043111205",
   "metadata": {},
   "outputs": [],
   "source": [
    "#Exp_no:2"
   ]
  },
  {
   "cell_type": "code",
   "execution_count": 3,
   "id": "8f6ae429-2a40-4e87-9a24-92284109a8f4",
   "metadata": {},
   "outputs": [],
   "source": [
    "#Aim:To Perform Central Tendency Of Measures Operation"
   ]
  },
  {
   "cell_type": "code",
   "execution_count": 4,
   "id": "d810ff8d-a885-4a93-bca9-ee5531b1f603",
   "metadata": {},
   "outputs": [],
   "source": [
    "#Name:Mohini Rajesh Ganjare\n",
    "#Roll no:16\n",
    "#Sec:B\n",
    "#Subject:ET1\n",
    "#Date:31/07/25"
   ]
  },
  {
   "cell_type": "code",
   "execution_count": 5,
   "id": "d78cc8ca-822c-4f1c-90c6-f19779ea7f3d",
   "metadata": {},
   "outputs": [],
   "source": [
    "age=[22,21,20,20,21,21,21,21,22,20,20,21]"
   ]
  },
  {
   "cell_type": "code",
   "execution_count": 6,
   "id": "c99e4d04-3678-4aa3-89c8-4177e327261e",
   "metadata": {},
   "outputs": [
    {
     "data": {
      "text/plain": [
       "[22, 21, 20, 20, 21, 21, 21, 21, 22, 20, 20, 21]"
      ]
     },
     "execution_count": 6,
     "metadata": {},
     "output_type": "execute_result"
    }
   ],
   "source": [
    "age"
   ]
  },
  {
   "cell_type": "code",
   "execution_count": 7,
   "id": "eaa9d152-8a10-4737-9248-702d69206671",
   "metadata": {},
   "outputs": [
    {
     "name": "stdout",
     "output_type": "stream",
     "text": [
      "[22, 21, 20, 20, 21, 21, 21, 21, 22, 20, 20, 21]\n"
     ]
    }
   ],
   "source": [
    "print(age)"
   ]
  },
  {
   "cell_type": "code",
   "execution_count": 13,
   "id": "af92e9d5-b1e8-46b2-898d-c3fed602c42a",
   "metadata": {},
   "outputs": [],
   "source": [
    "import statistics as stats"
   ]
  },
  {
   "cell_type": "code",
   "execution_count": 14,
   "id": "b735d52a-722f-4b39-936f-8bf00f684a66",
   "metadata": {},
   "outputs": [],
   "source": [
    "a=statistics.mean(age)"
   ]
  },
  {
   "cell_type": "code",
   "execution_count": 15,
   "id": "e8a9a228-6124-43b6-9933-f5b03674805c",
   "metadata": {},
   "outputs": [
    {
     "data": {
      "text/plain": [
       "20.833333333333332"
      ]
     },
     "execution_count": 15,
     "metadata": {},
     "output_type": "execute_result"
    }
   ],
   "source": [
    "a"
   ]
  },
  {
   "cell_type": "code",
   "execution_count": 16,
   "id": "c84fb148-5ca3-449d-a5b1-182d0b1acf3d",
   "metadata": {},
   "outputs": [],
   "source": [
    "b=statistics.median(age)"
   ]
  },
  {
   "cell_type": "code",
   "execution_count": 17,
   "id": "4a593909-f189-4723-a388-21696e4aee63",
   "metadata": {},
   "outputs": [
    {
     "data": {
      "text/plain": [
       "21.0"
      ]
     },
     "execution_count": 17,
     "metadata": {},
     "output_type": "execute_result"
    }
   ],
   "source": [
    "b"
   ]
  },
  {
   "cell_type": "code",
   "execution_count": 18,
   "id": "dfc1fabd-43a8-409b-a23d-f8d3be906352",
   "metadata": {},
   "outputs": [],
   "source": [
    "c=statistics.mode(age)"
   ]
  },
  {
   "cell_type": "code",
   "execution_count": 19,
   "id": "39f5db7b-5e59-48e7-b2bd-13c52094c0a4",
   "metadata": {},
   "outputs": [
    {
     "data": {
      "text/plain": [
       "21"
      ]
     },
     "execution_count": 19,
     "metadata": {},
     "output_type": "execute_result"
    }
   ],
   "source": [
    "c"
   ]
  },
  {
   "cell_type": "code",
   "execution_count": 20,
   "id": "880cab7d-260f-42db-b565-282720320a18",
   "metadata": {},
   "outputs": [],
   "source": [
    "import numpy as np\n",
    "x=np.array([2,5,8,3,4,5,6,1,2,5,6])"
   ]
  },
  {
   "cell_type": "code",
   "execution_count": 21,
   "id": "13ac08ef-c3c0-460f-b52f-c961e6589ba4",
   "metadata": {},
   "outputs": [
    {
     "data": {
      "text/plain": [
       "array([2, 5, 8, 3, 4, 5, 6, 1, 2, 5, 6])"
      ]
     },
     "execution_count": 21,
     "metadata": {},
     "output_type": "execute_result"
    }
   ],
   "source": [
    "x"
   ]
  },
  {
   "cell_type": "code",
   "execution_count": 22,
   "id": "422d21fc-7205-40ef-b076-176d8634c742",
   "metadata": {},
   "outputs": [
    {
     "name": "stdout",
     "output_type": "stream",
     "text": [
      "4.2727272727272725\n"
     ]
    }
   ],
   "source": [
    "print(np.mean(x))"
   ]
  },
  {
   "cell_type": "code",
   "execution_count": 23,
   "id": "c2dd2592-8de4-417a-84f8-78e5d3bc1f6b",
   "metadata": {},
   "outputs": [
    {
     "name": "stdout",
     "output_type": "stream",
     "text": [
      "5.0\n"
     ]
    }
   ],
   "source": [
    "print(np.median(x))"
   ]
  },
  {
   "cell_type": "code",
   "execution_count": 24,
   "id": "524d256a-88aa-46b8-b2a9-210f9f44fc03",
   "metadata": {},
   "outputs": [],
   "source": [
    "from scipy import stats"
   ]
  },
  {
   "cell_type": "code",
   "execution_count": 26,
   "id": "1b6c2189-6e49-4cbd-99d1-986343392a08",
   "metadata": {},
   "outputs": [
    {
     "name": "stdout",
     "output_type": "stream",
     "text": [
      "ModeResult(mode=np.int64(5), count=np.int64(3))\n"
     ]
    }
   ],
   "source": [
    "print(stats.mode(x))"
   ]
  },
  {
   "cell_type": "code",
   "execution_count": 27,
   "id": "e6ac588c-c205-4e54-a496-939dc2f6d042",
   "metadata": {},
   "outputs": [
    {
     "name": "stdout",
     "output_type": "stream",
     "text": [
      "2.004127971368055\n"
     ]
    }
   ],
   "source": [
    "print(np.std(x))"
   ]
  },
  {
   "cell_type": "code",
   "execution_count": 28,
   "id": "05d780da-45cf-437d-8873-299fe1f6b3fd",
   "metadata": {},
   "outputs": [
    {
     "name": "stdout",
     "output_type": "stream",
     "text": [
      "4.016528925619834\n"
     ]
    }
   ],
   "source": [
    "print(np.var(x))"
   ]
  },
  {
   "cell_type": "code",
   "execution_count": 29,
   "id": "bd671fb5-90a1-4ac4-ba6d-96748de9ed3b",
   "metadata": {},
   "outputs": [],
   "source": [
    "std_dev=stats.tstd(x)"
   ]
  },
  {
   "cell_type": "code",
   "execution_count": 30,
   "id": "36ad2d00-cccd-456d-917d-ddfc73f997c5",
   "metadata": {},
   "outputs": [
    {
     "name": "stdout",
     "output_type": "stream",
     "text": [
      "2.101947149236112\n"
     ]
    }
   ],
   "source": [
    "print(std_dev)"
   ]
  },
  {
   "cell_type": "code",
   "execution_count": 31,
   "id": "dacc85ad-b83e-4284-8401-1c23a7706d74",
   "metadata": {},
   "outputs": [],
   "source": [
    "v=stats.tvar(x)"
   ]
  },
  {
   "cell_type": "code",
   "execution_count": 32,
   "id": "27d500a5-d795-4f8a-99de-6bcdd9d11b83",
   "metadata": {},
   "outputs": [
    {
     "data": {
      "text/plain": [
       "np.float64(4.418181818181818)"
      ]
     },
     "execution_count": 32,
     "metadata": {},
     "output_type": "execute_result"
    }
   ],
   "source": [
    "v"
   ]
  }
 ],
 "metadata": {
  "kernelspec": {
   "display_name": "Python 3 (ipykernel)",
   "language": "python",
   "name": "python3"
  },
  "language_info": {
   "codemirror_mode": {
    "name": "ipython",
    "version": 3
   },
   "file_extension": ".py",
   "mimetype": "text/x-python",
   "name": "python",
   "nbconvert_exporter": "python",
   "pygments_lexer": "ipython3",
   "version": "3.13.5"
  }
 },
 "nbformat": 4,
 "nbformat_minor": 5
}
