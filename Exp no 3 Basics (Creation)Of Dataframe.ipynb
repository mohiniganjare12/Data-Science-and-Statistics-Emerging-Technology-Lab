{
 "cells": [
  {
   "cell_type": "code",
   "execution_count": 1,
   "id": "b5a538f1-b1ac-4842-9189-602947433b20",
   "metadata": {},
   "outputs": [],
   "source": [
    "#Exp_no:3"
   ]
  },
  {
   "cell_type": "code",
   "execution_count": 2,
   "id": "dc2ab8d5-21c7-422b-af0b-b2616dbfd9d8",
   "metadata": {},
   "outputs": [],
   "source": [
    "#Aim:To Create The Dataframe"
   ]
  },
  {
   "cell_type": "code",
   "execution_count": 4,
   "id": "040f513c-cd96-4df2-83ea-50e6ac0112e3",
   "metadata": {},
   "outputs": [],
   "source": [
    "#Name:Mohini Rajesh Ganjare\n",
    "#Roll no:16\n",
    "#Sec:B\n",
    "#Sub:ET1\n",
    "#Date:07/08/2025"
   ]
  },
  {
   "cell_type": "markdown",
   "id": "aa49406a-7367-4be5-acd2-4ab620945611",
   "metadata": {},
   "source": [
    "# Creating a Series"
   ]
  },
  {
   "cell_type": "code",
   "execution_count": 5,
   "id": "62c6176b-36fd-4006-add7-2856ebef637e",
   "metadata": {},
   "outputs": [],
   "source": [
    "#importing the basic library\n",
    "import pandas as pd"
   ]
  },
  {
   "cell_type": "code",
   "execution_count": 6,
   "id": "27a30f8f-f55e-4ae0-9cf0-634313f5d14a",
   "metadata": {},
   "outputs": [],
   "source": [
    "#Creating Student Name list\n",
    "Name=[\"Saniya\",\"Rachel\",\"Deep\",\"Anaya\"]"
   ]
  },
  {
   "cell_type": "code",
   "execution_count": 7,
   "id": "48c42d7c-fef6-4bb4-b37b-646a81caff34",
   "metadata": {},
   "outputs": [
    {
     "data": {
      "text/plain": [
       "['Saniya', 'Rachel', 'Deep', 'Anaya']"
      ]
     },
     "execution_count": 7,
     "metadata": {},
     "output_type": "execute_result"
    }
   ],
   "source": [
    "Name"
   ]
  },
  {
   "cell_type": "code",
   "execution_count": 11,
   "id": "1e4fdcfe-9bd2-4f43-818f-7a49a61ea5c7",
   "metadata": {},
   "outputs": [],
   "source": [
    "Rolllist=pd.Series(Name,index=[1,2,3,4])"
   ]
  },
  {
   "cell_type": "code",
   "execution_count": 12,
   "id": "563c573c-2130-4b1d-b734-8ced9c7676ab",
   "metadata": {},
   "outputs": [
    {
     "name": "stdout",
     "output_type": "stream",
     "text": [
      "1    Saniya\n",
      "2    Rachel\n",
      "3      Deep\n",
      "4     Anaya\n",
      "dtype: object\n"
     ]
    }
   ],
   "source": [
    "print(Rolllist)"
   ]
  },
  {
   "cell_type": "markdown",
   "id": "8f7ea115-0d1e-4e5c-9807-5b98921fe182",
   "metadata": {},
   "source": [
    "# Creating a Data Frame"
   ]
  },
  {
   "cell_type": "code",
   "execution_count": 13,
   "id": "e4f636d3-f1cc-450b-aa25-5fe0c3fdce7f",
   "metadata": {},
   "outputs": [],
   "source": [
    "df=pd.DataFrame([[10,11,12,13],[14,15,16,17],[15,17,18,12],[20,27,26,13]],\n",
    "               columns=[\"CD\",\"DBMS\",\"DSS\",\"CAO\"])"
   ]
  },
  {
   "cell_type": "code",
   "execution_count": 14,
   "id": "28ecb539-8830-40cd-ba0e-9e5d1a84c3fe",
   "metadata": {},
   "outputs": [
    {
     "data": {
      "text/html": [
       "<div>\n",
       "<style scoped>\n",
       "    .dataframe tbody tr th:only-of-type {\n",
       "        vertical-align: middle;\n",
       "    }\n",
       "\n",
       "    .dataframe tbody tr th {\n",
       "        vertical-align: top;\n",
       "    }\n",
       "\n",
       "    .dataframe thead th {\n",
       "        text-align: right;\n",
       "    }\n",
       "</style>\n",
       "<table border=\"1\" class=\"dataframe\">\n",
       "  <thead>\n",
       "    <tr style=\"text-align: right;\">\n",
       "      <th></th>\n",
       "      <th>CD</th>\n",
       "      <th>DBMS</th>\n",
       "      <th>DSS</th>\n",
       "      <th>CAO</th>\n",
       "    </tr>\n",
       "  </thead>\n",
       "  <tbody>\n",
       "    <tr>\n",
       "      <th>0</th>\n",
       "      <td>10</td>\n",
       "      <td>11</td>\n",
       "      <td>12</td>\n",
       "      <td>13</td>\n",
       "    </tr>\n",
       "    <tr>\n",
       "      <th>1</th>\n",
       "      <td>14</td>\n",
       "      <td>15</td>\n",
       "      <td>16</td>\n",
       "      <td>17</td>\n",
       "    </tr>\n",
       "    <tr>\n",
       "      <th>2</th>\n",
       "      <td>15</td>\n",
       "      <td>17</td>\n",
       "      <td>18</td>\n",
       "      <td>12</td>\n",
       "    </tr>\n",
       "    <tr>\n",
       "      <th>3</th>\n",
       "      <td>20</td>\n",
       "      <td>27</td>\n",
       "      <td>26</td>\n",
       "      <td>13</td>\n",
       "    </tr>\n",
       "  </tbody>\n",
       "</table>\n",
       "</div>"
      ],
      "text/plain": [
       "   CD  DBMS  DSS  CAO\n",
       "0  10    11   12   13\n",
       "1  14    15   16   17\n",
       "2  15    17   18   12\n",
       "3  20    27   26   13"
      ]
     },
     "execution_count": 14,
     "metadata": {},
     "output_type": "execute_result"
    }
   ],
   "source": [
    "df"
   ]
  },
  {
   "cell_type": "code",
   "execution_count": 15,
   "id": "f18b3abd-4c31-42ec-bfa6-71caa45f3631",
   "metadata": {},
   "outputs": [
    {
     "data": {
      "text/plain": [
       "(4, 4)"
      ]
     },
     "execution_count": 15,
     "metadata": {},
     "output_type": "execute_result"
    }
   ],
   "source": [
    "df.shape"
   ]
  },
  {
   "cell_type": "code",
   "execution_count": 16,
   "id": "82532f16-ae2f-4096-9a72-884b85437d4c",
   "metadata": {},
   "outputs": [
    {
     "data": {
      "text/plain": [
       "16"
      ]
     },
     "execution_count": 16,
     "metadata": {},
     "output_type": "execute_result"
    }
   ],
   "source": [
    "df.size"
   ]
  },
  {
   "cell_type": "code",
   "execution_count": 17,
   "id": "c8d20513-7f16-4f82-ac43-1b7aa53587b1",
   "metadata": {},
   "outputs": [
    {
     "data": {
      "text/plain": [
       "2"
      ]
     },
     "execution_count": 17,
     "metadata": {},
     "output_type": "execute_result"
    }
   ],
   "source": [
    "df.ndim"
   ]
  },
  {
   "cell_type": "code",
   "execution_count": 18,
   "id": "3c13812f-0681-4c9a-b2cd-f9c668472d8a",
   "metadata": {},
   "outputs": [],
   "source": [
    "df2=pd.DataFrame([[9,12,10,11]],\n",
    " columns=[\"CD\",\"DBMS\",\"DSS\",\"CAO\"])  "
   ]
  },
  {
   "cell_type": "code",
   "execution_count": 19,
   "id": "48afcae3-4da1-469c-85de-c0a2c97a6965",
   "metadata": {},
   "outputs": [
    {
     "data": {
      "text/html": [
       "<div>\n",
       "<style scoped>\n",
       "    .dataframe tbody tr th:only-of-type {\n",
       "        vertical-align: middle;\n",
       "    }\n",
       "\n",
       "    .dataframe tbody tr th {\n",
       "        vertical-align: top;\n",
       "    }\n",
       "\n",
       "    .dataframe thead th {\n",
       "        text-align: right;\n",
       "    }\n",
       "</style>\n",
       "<table border=\"1\" class=\"dataframe\">\n",
       "  <thead>\n",
       "    <tr style=\"text-align: right;\">\n",
       "      <th></th>\n",
       "      <th>CD</th>\n",
       "      <th>DBMS</th>\n",
       "      <th>DSS</th>\n",
       "      <th>CAO</th>\n",
       "    </tr>\n",
       "  </thead>\n",
       "  <tbody>\n",
       "    <tr>\n",
       "      <th>0</th>\n",
       "      <td>9</td>\n",
       "      <td>12</td>\n",
       "      <td>10</td>\n",
       "      <td>11</td>\n",
       "    </tr>\n",
       "  </tbody>\n",
       "</table>\n",
       "</div>"
      ],
      "text/plain": [
       "   CD  DBMS  DSS  CAO\n",
       "0   9    12   10   11"
      ]
     },
     "execution_count": 19,
     "metadata": {},
     "output_type": "execute_result"
    }
   ],
   "source": [
    "df2"
   ]
  },
  {
   "cell_type": "code",
   "execution_count": 21,
   "id": "7066bc6a-72eb-41dd-b3e1-54b3eb5cb6a6",
   "metadata": {},
   "outputs": [],
   "source": [
    "df3=pd.concat([df,df2] ,ignore_index=True)"
   ]
  },
  {
   "cell_type": "code",
   "execution_count": 22,
   "id": "f5496a8e-f13b-439b-86a0-a2aab047e241",
   "metadata": {},
   "outputs": [
    {
     "data": {
      "text/html": [
       "<div>\n",
       "<style scoped>\n",
       "    .dataframe tbody tr th:only-of-type {\n",
       "        vertical-align: middle;\n",
       "    }\n",
       "\n",
       "    .dataframe tbody tr th {\n",
       "        vertical-align: top;\n",
       "    }\n",
       "\n",
       "    .dataframe thead th {\n",
       "        text-align: right;\n",
       "    }\n",
       "</style>\n",
       "<table border=\"1\" class=\"dataframe\">\n",
       "  <thead>\n",
       "    <tr style=\"text-align: right;\">\n",
       "      <th></th>\n",
       "      <th>CD</th>\n",
       "      <th>DBMS</th>\n",
       "      <th>DSS</th>\n",
       "      <th>CAO</th>\n",
       "    </tr>\n",
       "  </thead>\n",
       "  <tbody>\n",
       "    <tr>\n",
       "      <th>0</th>\n",
       "      <td>10</td>\n",
       "      <td>11</td>\n",
       "      <td>12</td>\n",
       "      <td>13</td>\n",
       "    </tr>\n",
       "    <tr>\n",
       "      <th>1</th>\n",
       "      <td>14</td>\n",
       "      <td>15</td>\n",
       "      <td>16</td>\n",
       "      <td>17</td>\n",
       "    </tr>\n",
       "    <tr>\n",
       "      <th>2</th>\n",
       "      <td>15</td>\n",
       "      <td>17</td>\n",
       "      <td>18</td>\n",
       "      <td>12</td>\n",
       "    </tr>\n",
       "    <tr>\n",
       "      <th>3</th>\n",
       "      <td>20</td>\n",
       "      <td>27</td>\n",
       "      <td>26</td>\n",
       "      <td>13</td>\n",
       "    </tr>\n",
       "    <tr>\n",
       "      <th>4</th>\n",
       "      <td>9</td>\n",
       "      <td>12</td>\n",
       "      <td>10</td>\n",
       "      <td>11</td>\n",
       "    </tr>\n",
       "  </tbody>\n",
       "</table>\n",
       "</div>"
      ],
      "text/plain": [
       "   CD  DBMS  DSS  CAO\n",
       "0  10    11   12   13\n",
       "1  14    15   16   17\n",
       "2  15    17   18   12\n",
       "3  20    27   26   13\n",
       "4   9    12   10   11"
      ]
     },
     "execution_count": 22,
     "metadata": {},
     "output_type": "execute_result"
    }
   ],
   "source": [
    "df3"
   ]
  },
  {
   "cell_type": "code",
   "execution_count": 23,
   "id": "f106968d-f87a-43e3-8108-b76084c0d8e9",
   "metadata": {},
   "outputs": [
    {
     "data": {
      "text/plain": [
       "4"
      ]
     },
     "execution_count": 23,
     "metadata": {},
     "output_type": "execute_result"
    }
   ],
   "source": [
    "df2.size"
   ]
  },
  {
   "cell_type": "code",
   "execution_count": 24,
   "id": "e2619fef-833f-405e-bc5d-4140e8daaacd",
   "metadata": {},
   "outputs": [
    {
     "data": {
      "text/plain": [
       "(1, 4)"
      ]
     },
     "execution_count": 24,
     "metadata": {},
     "output_type": "execute_result"
    }
   ],
   "source": [
    "df2.shape"
   ]
  },
  {
   "cell_type": "code",
   "execution_count": 25,
   "id": "593a8e67-dbf6-44cf-88c7-e756ffd418b9",
   "metadata": {},
   "outputs": [
    {
     "data": {
      "text/plain": [
       "20"
      ]
     },
     "execution_count": 25,
     "metadata": {},
     "output_type": "execute_result"
    }
   ],
   "source": [
    "df3.size"
   ]
  },
  {
   "cell_type": "code",
   "execution_count": 26,
   "id": "aaa98a31-b0d0-4941-8b8d-40ac755c6f2f",
   "metadata": {},
   "outputs": [
    {
     "data": {
      "text/plain": [
       "(5, 4)"
      ]
     },
     "execution_count": 26,
     "metadata": {},
     "output_type": "execute_result"
    }
   ],
   "source": [
    "df3.shape"
   ]
  },
  {
   "cell_type": "markdown",
   "id": "b3b19260-ec36-486d-a56f-703a7bcbe477",
   "metadata": {},
   "source": [
    "# Adding Records (Columns) From Data Frame"
   ]
  },
  {
   "cell_type": "code",
   "execution_count": 27,
   "id": "3f1089b1-b109-4801-842b-d1113df24dce",
   "metadata": {},
   "outputs": [],
   "source": [
    "df3[\"DM\"]=[11,12,13,14,15]"
   ]
  },
  {
   "cell_type": "code",
   "execution_count": 28,
   "id": "d7f05be2-e151-4153-8007-a022b3ea9fe5",
   "metadata": {},
   "outputs": [
    {
     "data": {
      "text/html": [
       "<div>\n",
       "<style scoped>\n",
       "    .dataframe tbody tr th:only-of-type {\n",
       "        vertical-align: middle;\n",
       "    }\n",
       "\n",
       "    .dataframe tbody tr th {\n",
       "        vertical-align: top;\n",
       "    }\n",
       "\n",
       "    .dataframe thead th {\n",
       "        text-align: right;\n",
       "    }\n",
       "</style>\n",
       "<table border=\"1\" class=\"dataframe\">\n",
       "  <thead>\n",
       "    <tr style=\"text-align: right;\">\n",
       "      <th></th>\n",
       "      <th>CD</th>\n",
       "      <th>DBMS</th>\n",
       "      <th>DSS</th>\n",
       "      <th>CAO</th>\n",
       "      <th>DM</th>\n",
       "    </tr>\n",
       "  </thead>\n",
       "  <tbody>\n",
       "    <tr>\n",
       "      <th>0</th>\n",
       "      <td>10</td>\n",
       "      <td>11</td>\n",
       "      <td>12</td>\n",
       "      <td>13</td>\n",
       "      <td>11</td>\n",
       "    </tr>\n",
       "    <tr>\n",
       "      <th>1</th>\n",
       "      <td>14</td>\n",
       "      <td>15</td>\n",
       "      <td>16</td>\n",
       "      <td>17</td>\n",
       "      <td>12</td>\n",
       "    </tr>\n",
       "    <tr>\n",
       "      <th>2</th>\n",
       "      <td>15</td>\n",
       "      <td>17</td>\n",
       "      <td>18</td>\n",
       "      <td>12</td>\n",
       "      <td>13</td>\n",
       "    </tr>\n",
       "    <tr>\n",
       "      <th>3</th>\n",
       "      <td>20</td>\n",
       "      <td>27</td>\n",
       "      <td>26</td>\n",
       "      <td>13</td>\n",
       "      <td>14</td>\n",
       "    </tr>\n",
       "    <tr>\n",
       "      <th>4</th>\n",
       "      <td>9</td>\n",
       "      <td>12</td>\n",
       "      <td>10</td>\n",
       "      <td>11</td>\n",
       "      <td>15</td>\n",
       "    </tr>\n",
       "  </tbody>\n",
       "</table>\n",
       "</div>"
      ],
      "text/plain": [
       "   CD  DBMS  DSS  CAO  DM\n",
       "0  10    11   12   13  11\n",
       "1  14    15   16   17  12\n",
       "2  15    17   18   12  13\n",
       "3  20    27   26   13  14\n",
       "4   9    12   10   11  15"
      ]
     },
     "execution_count": 28,
     "metadata": {},
     "output_type": "execute_result"
    }
   ],
   "source": [
    "df3"
   ]
  },
  {
   "cell_type": "markdown",
   "id": "5d70454b-1b53-493a-ad59-1092116b6605",
   "metadata": {},
   "source": [
    "# Deleting Records (Row) From Data Frame"
   ]
  },
  {
   "cell_type": "code",
   "execution_count": 29,
   "id": "561eb3c7-11b5-47fc-83f5-fc449e3d9a37",
   "metadata": {},
   "outputs": [],
   "source": [
    "df4=df3.drop(index=[1])"
   ]
  },
  {
   "cell_type": "code",
   "execution_count": 30,
   "id": "ccc581e7-7858-48e8-a4a2-f67b82f408f5",
   "metadata": {},
   "outputs": [
    {
     "data": {
      "text/html": [
       "<div>\n",
       "<style scoped>\n",
       "    .dataframe tbody tr th:only-of-type {\n",
       "        vertical-align: middle;\n",
       "    }\n",
       "\n",
       "    .dataframe tbody tr th {\n",
       "        vertical-align: top;\n",
       "    }\n",
       "\n",
       "    .dataframe thead th {\n",
       "        text-align: right;\n",
       "    }\n",
       "</style>\n",
       "<table border=\"1\" class=\"dataframe\">\n",
       "  <thead>\n",
       "    <tr style=\"text-align: right;\">\n",
       "      <th></th>\n",
       "      <th>CD</th>\n",
       "      <th>DBMS</th>\n",
       "      <th>DSS</th>\n",
       "      <th>CAO</th>\n",
       "      <th>DM</th>\n",
       "    </tr>\n",
       "  </thead>\n",
       "  <tbody>\n",
       "    <tr>\n",
       "      <th>0</th>\n",
       "      <td>10</td>\n",
       "      <td>11</td>\n",
       "      <td>12</td>\n",
       "      <td>13</td>\n",
       "      <td>11</td>\n",
       "    </tr>\n",
       "    <tr>\n",
       "      <th>2</th>\n",
       "      <td>15</td>\n",
       "      <td>17</td>\n",
       "      <td>18</td>\n",
       "      <td>12</td>\n",
       "      <td>13</td>\n",
       "    </tr>\n",
       "    <tr>\n",
       "      <th>3</th>\n",
       "      <td>20</td>\n",
       "      <td>27</td>\n",
       "      <td>26</td>\n",
       "      <td>13</td>\n",
       "      <td>14</td>\n",
       "    </tr>\n",
       "    <tr>\n",
       "      <th>4</th>\n",
       "      <td>9</td>\n",
       "      <td>12</td>\n",
       "      <td>10</td>\n",
       "      <td>11</td>\n",
       "      <td>15</td>\n",
       "    </tr>\n",
       "  </tbody>\n",
       "</table>\n",
       "</div>"
      ],
      "text/plain": [
       "   CD  DBMS  DSS  CAO  DM\n",
       "0  10    11   12   13  11\n",
       "2  15    17   18   12  13\n",
       "3  20    27   26   13  14\n",
       "4   9    12   10   11  15"
      ]
     },
     "execution_count": 30,
     "metadata": {},
     "output_type": "execute_result"
    }
   ],
   "source": [
    "df4"
   ]
  },
  {
   "cell_type": "markdown",
   "id": "d1cb26d5-9fb5-405d-b28f-be53da3bf913",
   "metadata": {},
   "source": [
    "# Deleting attribute From df3"
   ]
  },
  {
   "cell_type": "code",
   "execution_count": 31,
   "id": "570483d8-a517-4768-8ed7-819207db6eff",
   "metadata": {},
   "outputs": [],
   "source": [
    "df5=df3.drop(columns=['DM'])"
   ]
  },
  {
   "cell_type": "code",
   "execution_count": 32,
   "id": "06b243db-273d-49a3-bb74-7a5b36bd55b9",
   "metadata": {},
   "outputs": [
    {
     "data": {
      "text/html": [
       "<div>\n",
       "<style scoped>\n",
       "    .dataframe tbody tr th:only-of-type {\n",
       "        vertical-align: middle;\n",
       "    }\n",
       "\n",
       "    .dataframe tbody tr th {\n",
       "        vertical-align: top;\n",
       "    }\n",
       "\n",
       "    .dataframe thead th {\n",
       "        text-align: right;\n",
       "    }\n",
       "</style>\n",
       "<table border=\"1\" class=\"dataframe\">\n",
       "  <thead>\n",
       "    <tr style=\"text-align: right;\">\n",
       "      <th></th>\n",
       "      <th>CD</th>\n",
       "      <th>DBMS</th>\n",
       "      <th>DSS</th>\n",
       "      <th>CAO</th>\n",
       "    </tr>\n",
       "  </thead>\n",
       "  <tbody>\n",
       "    <tr>\n",
       "      <th>0</th>\n",
       "      <td>10</td>\n",
       "      <td>11</td>\n",
       "      <td>12</td>\n",
       "      <td>13</td>\n",
       "    </tr>\n",
       "    <tr>\n",
       "      <th>1</th>\n",
       "      <td>14</td>\n",
       "      <td>15</td>\n",
       "      <td>16</td>\n",
       "      <td>17</td>\n",
       "    </tr>\n",
       "    <tr>\n",
       "      <th>2</th>\n",
       "      <td>15</td>\n",
       "      <td>17</td>\n",
       "      <td>18</td>\n",
       "      <td>12</td>\n",
       "    </tr>\n",
       "    <tr>\n",
       "      <th>3</th>\n",
       "      <td>20</td>\n",
       "      <td>27</td>\n",
       "      <td>26</td>\n",
       "      <td>13</td>\n",
       "    </tr>\n",
       "    <tr>\n",
       "      <th>4</th>\n",
       "      <td>9</td>\n",
       "      <td>12</td>\n",
       "      <td>10</td>\n",
       "      <td>11</td>\n",
       "    </tr>\n",
       "  </tbody>\n",
       "</table>\n",
       "</div>"
      ],
      "text/plain": [
       "   CD  DBMS  DSS  CAO\n",
       "0  10    11   12   13\n",
       "1  14    15   16   17\n",
       "2  15    17   18   12\n",
       "3  20    27   26   13\n",
       "4   9    12   10   11"
      ]
     },
     "execution_count": 32,
     "metadata": {},
     "output_type": "execute_result"
    }
   ],
   "source": [
    "df5"
   ]
  },
  {
   "cell_type": "code",
   "execution_count": 33,
   "id": "ae9a2533-6929-4694-beed-072a57569ec2",
   "metadata": {},
   "outputs": [
    {
     "name": "stdout",
     "output_type": "stream",
     "text": [
      "Mean of Dss: 16.5\n"
     ]
    }
   ],
   "source": [
    "# finding mean of dss\n",
    "print(\"Mean of Dss:\",df4[\"DSS\"].mean())"
   ]
  },
  {
   "cell_type": "code",
   "execution_count": 34,
   "id": "4c4ba037-0692-4ad0-a900-ed5330f72e70",
   "metadata": {},
   "outputs": [
    {
     "name": "stdout",
     "output_type": "stream",
     "text": [
      "Median of Dss: 15.0\n"
     ]
    }
   ],
   "source": [
    "# finding median of dss\n",
    "print(\"Median of Dss:\",df4[\"DSS\"].median())"
   ]
  },
  {
   "cell_type": "code",
   "execution_count": 35,
   "id": "67f53fdd-c7e0-49a1-890d-6ca01d379b4c",
   "metadata": {},
   "outputs": [
    {
     "name": "stdout",
     "output_type": "stream",
     "text": [
      "Mode of Dss: 0    10\n",
      "1    12\n",
      "2    18\n",
      "3    26\n",
      "Name: DSS, dtype: int64\n"
     ]
    }
   ],
   "source": [
    "# finding mode of dss\n",
    "print(\"Mode of Dss:\",df4[\"DSS\"].mode())"
   ]
  },
  {
   "cell_type": "code",
   "execution_count": 36,
   "id": "04a11e14-8bba-4bd0-8716-767c9587d879",
   "metadata": {},
   "outputs": [
    {
     "data": {
      "text/html": [
       "<div>\n",
       "<style scoped>\n",
       "    .dataframe tbody tr th:only-of-type {\n",
       "        vertical-align: middle;\n",
       "    }\n",
       "\n",
       "    .dataframe tbody tr th {\n",
       "        vertical-align: top;\n",
       "    }\n",
       "\n",
       "    .dataframe thead th {\n",
       "        text-align: right;\n",
       "    }\n",
       "</style>\n",
       "<table border=\"1\" class=\"dataframe\">\n",
       "  <thead>\n",
       "    <tr style=\"text-align: right;\">\n",
       "      <th></th>\n",
       "      <th>CD</th>\n",
       "      <th>DBMS</th>\n",
       "      <th>DSS</th>\n",
       "      <th>CAO</th>\n",
       "      <th>DM</th>\n",
       "    </tr>\n",
       "  </thead>\n",
       "  <tbody>\n",
       "    <tr>\n",
       "      <th>0</th>\n",
       "      <td>10</td>\n",
       "      <td>11</td>\n",
       "      <td>12</td>\n",
       "      <td>13</td>\n",
       "      <td>11</td>\n",
       "    </tr>\n",
       "    <tr>\n",
       "      <th>2</th>\n",
       "      <td>15</td>\n",
       "      <td>17</td>\n",
       "      <td>18</td>\n",
       "      <td>12</td>\n",
       "      <td>13</td>\n",
       "    </tr>\n",
       "    <tr>\n",
       "      <th>3</th>\n",
       "      <td>20</td>\n",
       "      <td>27</td>\n",
       "      <td>26</td>\n",
       "      <td>13</td>\n",
       "      <td>14</td>\n",
       "    </tr>\n",
       "    <tr>\n",
       "      <th>4</th>\n",
       "      <td>9</td>\n",
       "      <td>12</td>\n",
       "      <td>10</td>\n",
       "      <td>11</td>\n",
       "      <td>15</td>\n",
       "    </tr>\n",
       "  </tbody>\n",
       "</table>\n",
       "</div>"
      ],
      "text/plain": [
       "   CD  DBMS  DSS  CAO  DM\n",
       "0  10    11   12   13  11\n",
       "2  15    17   18   12  13\n",
       "3  20    27   26   13  14\n",
       "4   9    12   10   11  15"
      ]
     },
     "execution_count": 36,
     "metadata": {},
     "output_type": "execute_result"
    }
   ],
   "source": [
    "df4"
   ]
  },
  {
   "cell_type": "code",
   "execution_count": 37,
   "id": "78bd48c0-88a3-4149-993a-d45e848d9da0",
   "metadata": {},
   "outputs": [
    {
     "name": "stdout",
     "output_type": "stream",
     "text": [
      "Mean of Dss: 16.4\n"
     ]
    }
   ],
   "source": [
    "# finding mean of dss\n",
    "print(\"Mean of Dss:\",df5[\"DSS\"].mean())"
   ]
  },
  {
   "cell_type": "code",
   "execution_count": 38,
   "id": "dbb09643-ff75-4670-b30a-244b91c5a8b9",
   "metadata": {},
   "outputs": [
    {
     "name": "stdout",
     "output_type": "stream",
     "text": [
      "Median of Dss: 16.0\n"
     ]
    }
   ],
   "source": [
    "# finding median of dss\n",
    "print(\"Median of Dss:\",df5[\"DSS\"].median())"
   ]
  },
  {
   "cell_type": "code",
   "execution_count": 39,
   "id": "761108f9-5473-4edb-aae6-bb971ed39fa7",
   "metadata": {},
   "outputs": [
    {
     "name": "stdout",
     "output_type": "stream",
     "text": [
      "Mode of Dss: 0    10\n",
      "1    12\n",
      "2    18\n",
      "3    26\n",
      "Name: DSS, dtype: int64\n"
     ]
    }
   ],
   "source": [
    "# finding mode of dss\n",
    "print(\"Mode of Dss:\",df4[\"DSS\"].mode())"
   ]
  },
  {
   "cell_type": "code",
   "execution_count": null,
   "id": "d9a38678-5e6b-480c-a226-6d29f9e65672",
   "metadata": {},
   "outputs": [],
   "source": []
  },
  {
   "cell_type": "code",
   "execution_count": null,
   "id": "29b65bf8-e46a-43b6-a0ea-092a8f9acfb9",
   "metadata": {},
   "outputs": [],
   "source": []
  }
 ],
 "metadata": {
  "kernelspec": {
   "display_name": "Python 3 (ipykernel)",
   "language": "python",
   "name": "python3"
  },
  "language_info": {
   "codemirror_mode": {
    "name": "ipython",
    "version": 3
   },
   "file_extension": ".py",
   "mimetype": "text/x-python",
   "name": "python",
   "nbconvert_exporter": "python",
   "pygments_lexer": "ipython3",
   "version": "3.13.5"
  }
 },
 "nbformat": 4,
 "nbformat_minor": 5
}
