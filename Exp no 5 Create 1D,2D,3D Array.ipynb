{
 "cells": [
  {
   "cell_type": "code",
   "execution_count": 1,
   "id": "98bbce64-e5cf-4758-9fca-b7e76b6e4093",
   "metadata": {},
   "outputs": [],
   "source": [
    "#Exp_No:5"
   ]
  },
  {
   "cell_type": "code",
   "execution_count": 3,
   "id": "d357e332-2ed6-46e7-84e0-5a015a4585b7",
   "metadata": {},
   "outputs": [],
   "source": [
    "#Aim:To Create 1D,2D and Multidimensional Array"
   ]
  },
  {
   "cell_type": "code",
   "execution_count": 4,
   "id": "e0e3a214-239f-480a-b57c-3ab26e0c1dcf",
   "metadata": {},
   "outputs": [],
   "source": [
    "#Name:Mohini Rajesh Ganjare\n",
    "#Roll no:16\n",
    "#Sec:B\n",
    "#Sub:ET1\n",
    "#Date:21/08/2025"
   ]
  },
  {
   "cell_type": "code",
   "execution_count": 5,
   "id": "3bd47e4f-976b-4d38-8a31-e921ffc90417",
   "metadata": {},
   "outputs": [],
   "source": [
    "#importing the basic library\n",
    "import numpy as np"
   ]
  },
  {
   "cell_type": "code",
   "execution_count": 6,
   "id": "7bbcdeef-213b-4dbc-b40d-b2eb153643b9",
   "metadata": {},
   "outputs": [],
   "source": [
    "#Creating 1D Array using numpy"
   ]
  },
  {
   "cell_type": "code",
   "execution_count": 11,
   "id": "e94b6301-d463-41d9-a9f4-8c89f08df188",
   "metadata": {},
   "outputs": [],
   "source": [
    "a1=np.array([10,20,30,40,50])"
   ]
  },
  {
   "cell_type": "code",
   "execution_count": 12,
   "id": "adff288b-6c3d-48c9-81a0-1a1b3aac91df",
   "metadata": {},
   "outputs": [
    {
     "data": {
      "text/plain": [
       "array([10, 20, 30, 40, 50])"
      ]
     },
     "execution_count": 12,
     "metadata": {},
     "output_type": "execute_result"
    }
   ],
   "source": [
    "a1"
   ]
  },
  {
   "cell_type": "code",
   "execution_count": 13,
   "id": "38af6bdc-e029-4572-895a-d20c955c1dfc",
   "metadata": {},
   "outputs": [],
   "source": [
    "a2=np.array([[10,20,30,40],[50,60,70,80]])"
   ]
  },
  {
   "cell_type": "code",
   "execution_count": 14,
   "id": "3f75e626-6140-4c06-9212-077158c3eff7",
   "metadata": {},
   "outputs": [
    {
     "data": {
      "text/plain": [
       "array([[10, 20, 30, 40],\n",
       "       [50, 60, 70, 80]])"
      ]
     },
     "execution_count": 14,
     "metadata": {},
     "output_type": "execute_result"
    }
   ],
   "source": [
    "a2"
   ]
  },
  {
   "cell_type": "code",
   "execution_count": 15,
   "id": "d0e39928-9364-4915-89f0-4c2dfe4d220e",
   "metadata": {},
   "outputs": [],
   "source": [
    "#Creating 2D Array using numpy"
   ]
  },
  {
   "cell_type": "code",
   "execution_count": 16,
   "id": "16c51b8e-7f99-489b-b8c8-669cc8abd177",
   "metadata": {},
   "outputs": [],
   "source": [
    "a3=np.matrix('10 20;30 40;50 60')"
   ]
  },
  {
   "cell_type": "code",
   "execution_count": 17,
   "id": "f2511fc7-f7be-4872-83df-6469332a3837",
   "metadata": {},
   "outputs": [
    {
     "data": {
      "text/plain": [
       "matrix([[10, 20],\n",
       "        [30, 40],\n",
       "        [50, 60]])"
      ]
     },
     "execution_count": 17,
     "metadata": {},
     "output_type": "execute_result"
    }
   ],
   "source": [
    "a3"
   ]
  },
  {
   "cell_type": "code",
   "execution_count": 22,
   "id": "8a0f3842-01b3-4da2-8c9d-4752a38b87f1",
   "metadata": {},
   "outputs": [
    {
     "name": "stdout",
     "output_type": "stream",
     "text": [
      "[13 14 12 14 10 10 14 10 12 12]\n"
     ]
    }
   ],
   "source": [
    "#Creating Array Of 10 Random Intergers Between 10 to 15\n",
    "arr=np.random.randint(10,15,size=10)\n",
    "print(arr)"
   ]
  }
 ],
 "metadata": {
  "kernelspec": {
   "display_name": "Python 3 (ipykernel)",
   "language": "python",
   "name": "python3"
  },
  "language_info": {
   "codemirror_mode": {
    "name": "ipython",
    "version": 3
   },
   "file_extension": ".py",
   "mimetype": "text/x-python",
   "name": "python",
   "nbconvert_exporter": "python",
   "pygments_lexer": "ipython3",
   "version": "3.13.5"
  }
 },
 "nbformat": 4,
 "nbformat_minor": 5
}
